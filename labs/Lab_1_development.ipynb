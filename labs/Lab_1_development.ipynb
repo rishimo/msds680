{
 "cells": [
  {
   "attachments": {},
   "cell_type": "markdown",
   "metadata": {},
   "source": [
    "# Development Environment Lab\n",
    "\n",
    "## Overview\n",
    "\n",
    "In this simple lab we will set up the scaffolding for the development of the course labs and class project with respect to file structure, documentation, and development environment.\n",
    "\n",
    "## Goal\n",
    "\n",
    "To instill the practice and discipline of standardizing your development process. Please, do not become too comfortable with a *specific* way of doing things. For example, it's nice if you like to organize your projects and documentation or style your code a certain way, but when you join a new team, you may be expected to switch over to their way of doing things. You must do this, and be a team player, even if you believe your way is the *right* way. It isn't. The *right* way is however the team decides, and it may change from team to team, company to company. If you are very opinionated, you may be lucky enough to join a new team that has not yet established their best practices, and then you can have your say and influence the team.\n",
    "\n",
    "## Instructions\n",
    "\n",
    "### IDE\n",
    "\n",
    "You should start by deciding if you want to work out of Jupyter Labs, or try something new like PyCharm or VS Code. If you go with Jupyter, you may want to try Jupyter Desktop. I, personally, will be using VS Code for all demos.\n",
    "\n",
    "### Virtual Environments\n",
    "\n",
    "Next, let's create a virtual environment for the work you will be doing in this class. You can use virtual environments in python, or you can use conda. It is up to you. "
   ]
  },
  {
   "attachments": {},
   "cell_type": "markdown",
   "metadata": {},
   "source": [
    "Using conda, here are some commands that might be useful.\n",
    "\n",
    "`conda -V`  \n",
    "`conda update conda `  \n",
    "\n",
    "Create and activate a virtual environment, with python 3.12 in it.\n",
    "`conda create --name mlops python=3.12`  \n",
    "`conda activate mlops`  \n",
    "`conda info --envs`\n",
    "\n",
    "If you need to switch out of the virtual environment, you can use  \n",
    "`conda deactivate` \n",
    "\n",
    "Or you can use python to create and activate a virtual environment.  \n",
    "`python3 -m venv mlops`  \n",
    "`source mlops/bin/activate`  \n",
    "\n",
    "You should notice, in the terminal, that you have switched over to the virtual environment. To deactivate, simply run  \n",
    "`deactivate`\n",
    "\n",
    "If you decide to use `venv`, I would suggest creating all of your virtual environments somewhere central, with the same path so that it's easy to remember, and avoid adding them to a git repository. I put mine in folder `~/tmp/env/`.\n",
    "\n",
    "1. In the terminal, navigate to where you would like to create your mlops course folder, create a folder for the course, then cd into it. Now might be a good time to initialize a git repository using `git init`.\n",
    "2. Create a virtual environment in a central location, call it mlops, and activate it. If you prefer to create it in your mlops folder, just be sure to add it to your .gitignore file. \n",
    "3. Create a requirements.txt file. Include mlfow, scikit-learn, pandas, and numpy. You may include whatever version number you want for each of these libraries, but I'm using mlflow==2.15.1, numpy==1.26.4, pandas==2.2.2, scikit-learn==1.5.1. If you are using conda, you may want to use an environment.yaml file instead, but I won't be covering this, I'm just going to use requirements.txt and use `pip` to install. Yes, you can use `pip` even if you are using conda, though I suppose it's not \"recommended\".  \n",
    "4. Install libraries from your requirements.txt file using `pip install -r requirements.txt`. If you are using conda, you may need to run `conda install pip` first to ensure that the version of pip that is used is the one in your environment. \n",
    "\n",
    "`pip freeze` or `pip list` will allow you to see the libraries you've installed. Upon creating your virtual environment, this should return not much.\n",
    "\n",
    "We can, but are not required to, create a **setup.py** file which would hold some metadata about our course labs, and also details about the libraries we installed (e.g. which libraries are *required* in production versus which are used only for development purposes). Later on in the course we will create a **pyproject.toml** file which will hold some other configurations for us, but I find having a separate setup.py file to be just another list of things that I will forget to keep track of, so I won't be using it right this minute."
   ]
  },
  {
   "attachments": {},
   "cell_type": "markdown",
   "metadata": {},
   "source": [
    "### Organization and Documentation\n",
    "\n",
    "Now that your environment is ready, let's create a course folder structure, begin our documentation, and push everything to Github. For the work we will be doing for the labs and demos, we will be doing a lot of typical ML training processes, like adding data, writing model-training scripts, using Jupyter notebooks, and writing other pieces of code.\n",
    "\n",
    "1. Create other folders for the course labs. You may want a folder for all of your notebooks, a folder for data, a folder for models. Start with the bare minimum, and add new folders when you need them, rather than creating a bunch of folders that you may not ever need.\n",
    "2. Create a README.md file. Remember to come back to this file and describe the repo in detail. Provide a description, data sets, data sources, and description of solutions, when the time comes.\n",
    "3. Commit your changes (which at this point is really just a requirements.txt and readme.md file) and push to Github."
   ]
  },
  {
   "attachments": {},
   "cell_type": "markdown",
   "metadata": {},
   "source": [
    "### Final Project\n",
    "\n",
    "Let's get started with the final project right now by repeating the steps above. You should:\n",
    "\n",
    "- Create a new folder and git repo, with a specific project name;   \n",
    "- Have an organized project folder structure;  \n",
    "- Have code with appropriate comments, or alternatively a read the docs website;  \n",
    "- Have a fully documented README.md file with *at least* the following sections:\n",
    "    - Project Description  \n",
    "    - Data Set Descriptions and Sources   \n",
    "    - MLOps stages that were tested  \n",
    "    - Which tools were tested  \n",
    "    - Comparison of tools (pros and cons)"
   ]
  },
  {
   "attachments": {},
   "cell_type": "markdown",
   "metadata": {},
   "source": [
    "### Turning It In\n",
    "\n",
    "Please send me a link to both of your Github repos for the course labs in Canvas. "
   ]
  },
  {
   "cell_type": "markdown",
   "metadata": {},
   "source": []
  }
 ],
 "metadata": {
  "kernelspec": {
   "display_name": "Python 3",
   "language": "python",
   "name": "python3"
  },
  "language_info": {
   "name": "python",
   "version": "3.11.5"
  },
  "orig_nbformat": 4,
  "vscode": {
   "interpreter": {
    "hash": "b0fa6594d8f4cbf19f97940f81e996739fb7646882a419484c72d19e05852a7e"
   }
  }
 },
 "nbformat": 4,
 "nbformat_minor": 2
}
